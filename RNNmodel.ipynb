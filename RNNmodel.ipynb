{
 "cells": [
  {
   "cell_type": "code",
   "execution_count": 1,
   "id": "163f481e",
   "metadata": {},
   "outputs": [
    {
     "name": "stderr",
     "output_type": "stream",
     "text": [
      "C:\\Users\\rty67\\anaconda3\\lib\\site-packages\\scipy\\__init__.py:146: UserWarning: A NumPy version >=1.16.5 and <1.23.0 is required for this version of SciPy (detected version 1.23.1\n",
      "  warnings.warn(f\"A NumPy version >={np_minversion} and <{np_maxversion}\"\n"
     ]
    }
   ],
   "source": [
    "import pandas as pd\n",
    "import numpy as np\n",
    "import matplotlib.pyplot as plt\n",
    "from sklearn.preprocessing import MinMaxScaler\n",
    "from tensorflow.keras.models import Sequential\n",
    "from tensorflow.keras.layers import Dense, SimpleRNN"
   ]
  },
  {
   "cell_type": "code",
   "execution_count": 2,
   "id": "505c3789",
   "metadata": {},
   "outputs": [],
   "source": [
    "# Load the dataset\n",
    "data = pd.read_csv('BTCprice.csv')"
   ]
  },
  {
   "cell_type": "code",
   "execution_count": 3,
   "id": "b4266891",
   "metadata": {},
   "outputs": [],
   "source": [
    "# Extract the 'Close' prices as our target variable\n",
    "target = data['Close'].values"
   ]
  },
  {
   "cell_type": "code",
   "execution_count": 4,
   "id": "7a4180b8",
   "metadata": {},
   "outputs": [],
   "source": [
    "# Normalize the data to scale between 0 and 1\n",
    "scaler = MinMaxScaler(feature_range=(0, 1))\n",
    "target = scaler.fit_transform(target.reshape(-1, 1))"
   ]
  },
  {
   "cell_type": "code",
   "execution_count": 5,
   "id": "09a55068",
   "metadata": {},
   "outputs": [],
   "source": [
    "# Split the data into training and testing sets\n",
    "train_size = int(len(target) * 0.8)\n",
    "test_size = len(target) - train_size\n",
    "train_data, test_data = target[0:train_size,:], target[train_size:len(target),:]"
   ]
  },
  {
   "cell_type": "code",
   "execution_count": 6,
   "id": "42d7feeb",
   "metadata": {},
   "outputs": [],
   "source": [
    "# Prepare the data for RNN\n",
    "def create_sequences(dataset, seq_length):\n",
    "    dataX, dataY = [], []\n",
    "    for i in range(len(dataset) - seq_length):\n",
    "        dataX.append(dataset[i:(i + seq_length)])\n",
    "        dataY.append(dataset[i + seq_length])\n",
    "    return np.array(dataX), np.array(dataY)"
   ]
  },
  {
   "cell_type": "code",
   "execution_count": 7,
   "id": "00bbc579",
   "metadata": {},
   "outputs": [],
   "source": [
    "seq_length = 10  \n",
    "trainX, trainY = create_sequences(train_data, seq_length)\n",
    "testX, testY = create_sequences(test_data, seq_length)"
   ]
  },
  {
   "cell_type": "code",
   "execution_count": 8,
   "id": "e7a0a559",
   "metadata": {},
   "outputs": [],
   "source": [
    "# Build the RNN model\n",
    "model = Sequential()\n",
    "model.add(SimpleRNN(50, input_shape=(seq_length, 1)))\n",
    "model.add(Dense(1))\n",
    "model.compile(loss='mean_squared_error', optimizer='adam')"
   ]
  },
  {
   "cell_type": "code",
   "execution_count": 9,
   "id": "8111efe7",
   "metadata": {
    "scrolled": true
   },
   "outputs": [
    {
     "name": "stdout",
     "output_type": "stream",
     "text": [
      "Epoch 1/100\n",
      "1450/1450 - 2s - loss: 0.0025 - 2s/epoch - 1ms/step\n",
      "Epoch 2/100\n",
      "1450/1450 - 1s - loss: 7.0807e-04 - 1s/epoch - 865us/step\n",
      "Epoch 3/100\n",
      "1450/1450 - 1s - loss: 5.7851e-04 - 1s/epoch - 866us/step\n",
      "Epoch 4/100\n",
      "1450/1450 - 1s - loss: 4.5866e-04 - 1s/epoch - 866us/step\n",
      "Epoch 5/100\n",
      "1450/1450 - 1s - loss: 4.6667e-04 - 1s/epoch - 859us/step\n",
      "Epoch 6/100\n",
      "1450/1450 - 1s - loss: 4.8837e-04 - 1s/epoch - 863us/step\n",
      "Epoch 7/100\n",
      "1450/1450 - 1s - loss: 4.3243e-04 - 1s/epoch - 862us/step\n",
      "Epoch 8/100\n",
      "1450/1450 - 1s - loss: 4.4758e-04 - 1s/epoch - 858us/step\n",
      "Epoch 9/100\n",
      "1450/1450 - 1s - loss: 4.3267e-04 - 1s/epoch - 868us/step\n",
      "Epoch 10/100\n",
      "1450/1450 - 1s - loss: 4.2608e-04 - 1s/epoch - 864us/step\n",
      "Epoch 11/100\n",
      "1450/1450 - 1s - loss: 3.9093e-04 - 1s/epoch - 863us/step\n",
      "Epoch 12/100\n",
      "1450/1450 - 1s - loss: 3.7525e-04 - 1s/epoch - 864us/step\n",
      "Epoch 13/100\n",
      "1450/1450 - 1s - loss: 4.1491e-04 - 1s/epoch - 866us/step\n",
      "Epoch 14/100\n",
      "1450/1450 - 1s - loss: 3.9390e-04 - 1s/epoch - 884us/step\n",
      "Epoch 15/100\n",
      "1450/1450 - 1s - loss: 3.7448e-04 - 1s/epoch - 867us/step\n",
      "Epoch 16/100\n",
      "1450/1450 - 1s - loss: 3.8368e-04 - 1s/epoch - 867us/step\n",
      "Epoch 17/100\n",
      "1450/1450 - 1s - loss: 3.8322e-04 - 1s/epoch - 868us/step\n",
      "Epoch 18/100\n",
      "1450/1450 - 1s - loss: 3.5238e-04 - 1s/epoch - 869us/step\n",
      "Epoch 19/100\n",
      "1450/1450 - 1s - loss: 3.8311e-04 - 1s/epoch - 869us/step\n",
      "Epoch 20/100\n",
      "1450/1450 - 1s - loss: 3.7484e-04 - 1s/epoch - 864us/step\n",
      "Epoch 21/100\n",
      "1450/1450 - 1s - loss: 3.7851e-04 - 1s/epoch - 867us/step\n",
      "Epoch 22/100\n",
      "1450/1450 - 1s - loss: 3.6893e-04 - 1s/epoch - 864us/step\n",
      "Epoch 23/100\n",
      "1450/1450 - 1s - loss: 3.7019e-04 - 1s/epoch - 867us/step\n",
      "Epoch 24/100\n",
      "1450/1450 - 1s - loss: 3.4723e-04 - 1s/epoch - 867us/step\n",
      "Epoch 25/100\n",
      "1450/1450 - 1s - loss: 3.6772e-04 - 1s/epoch - 871us/step\n",
      "Epoch 26/100\n",
      "1450/1450 - 1s - loss: 3.4811e-04 - 1s/epoch - 870us/step\n",
      "Epoch 27/100\n",
      "1450/1450 - 1s - loss: 3.5412e-04 - 1s/epoch - 868us/step\n",
      "Epoch 28/100\n",
      "1450/1450 - 1s - loss: 3.7746e-04 - 1s/epoch - 865us/step\n",
      "Epoch 29/100\n",
      "1450/1450 - 1s - loss: 3.5413e-04 - 1s/epoch - 864us/step\n",
      "Epoch 30/100\n",
      "1450/1450 - 1s - loss: 3.6349e-04 - 1s/epoch - 865us/step\n",
      "Epoch 31/100\n",
      "1450/1450 - 1s - loss: 3.7572e-04 - 1s/epoch - 869us/step\n",
      "Epoch 32/100\n",
      "1450/1450 - 1s - loss: 3.7195e-04 - 1s/epoch - 871us/step\n",
      "Epoch 33/100\n",
      "1450/1450 - 1s - loss: 3.6241e-04 - 1s/epoch - 868us/step\n",
      "Epoch 34/100\n",
      "1450/1450 - 1s - loss: 3.5233e-04 - 1s/epoch - 867us/step\n",
      "Epoch 35/100\n",
      "1450/1450 - 1s - loss: 3.5640e-04 - 1s/epoch - 869us/step\n",
      "Epoch 36/100\n",
      "1450/1450 - 1s - loss: 3.5259e-04 - 1s/epoch - 876us/step\n",
      "Epoch 37/100\n",
      "1450/1450 - 1s - loss: 3.5925e-04 - 1s/epoch - 876us/step\n",
      "Epoch 38/100\n",
      "1450/1450 - 1s - loss: 3.4741e-04 - 1s/epoch - 873us/step\n",
      "Epoch 39/100\n",
      "1450/1450 - 1s - loss: 3.4530e-04 - 1s/epoch - 871us/step\n",
      "Epoch 40/100\n",
      "1450/1450 - 1s - loss: 3.5456e-04 - 1s/epoch - 874us/step\n",
      "Epoch 41/100\n",
      "1450/1450 - 1s - loss: 3.5254e-04 - 1s/epoch - 875us/step\n",
      "Epoch 42/100\n",
      "1450/1450 - 1s - loss: 3.5101e-04 - 1s/epoch - 871us/step\n",
      "Epoch 43/100\n",
      "1450/1450 - 1s - loss: 3.5550e-04 - 1s/epoch - 874us/step\n",
      "Epoch 44/100\n",
      "1450/1450 - 1s - loss: 3.3834e-04 - 1s/epoch - 872us/step\n",
      "Epoch 45/100\n",
      "1450/1450 - 1s - loss: 3.4432e-04 - 1s/epoch - 870us/step\n",
      "Epoch 46/100\n",
      "1450/1450 - 1s - loss: 3.5699e-04 - 1s/epoch - 871us/step\n",
      "Epoch 47/100\n",
      "1450/1450 - 1s - loss: 3.5158e-04 - 1s/epoch - 874us/step\n",
      "Epoch 48/100\n",
      "1450/1450 - 1s - loss: 3.7908e-04 - 1s/epoch - 870us/step\n",
      "Epoch 49/100\n",
      "1450/1450 - 1s - loss: 3.2992e-04 - 1s/epoch - 876us/step\n",
      "Epoch 50/100\n",
      "1450/1450 - 1s - loss: 3.4923e-04 - 1s/epoch - 871us/step\n",
      "Epoch 51/100\n",
      "1450/1450 - 1s - loss: 3.4256e-04 - 1s/epoch - 873us/step\n",
      "Epoch 52/100\n",
      "1450/1450 - 1s - loss: 3.4630e-04 - 1s/epoch - 872us/step\n",
      "Epoch 53/100\n",
      "1450/1450 - 1s - loss: 3.5527e-04 - 1s/epoch - 869us/step\n",
      "Epoch 54/100\n",
      "1450/1450 - 1s - loss: 3.3076e-04 - 1s/epoch - 870us/step\n",
      "Epoch 55/100\n",
      "1450/1450 - 1s - loss: 3.3496e-04 - 1s/epoch - 869us/step\n",
      "Epoch 56/100\n",
      "1450/1450 - 1s - loss: 3.3711e-04 - 1s/epoch - 824us/step\n",
      "Epoch 57/100\n",
      "1450/1450 - 1s - loss: 3.4564e-04 - 1s/epoch - 824us/step\n",
      "Epoch 58/100\n",
      "1450/1450 - 1s - loss: 3.3383e-04 - 1s/epoch - 822us/step\n",
      "Epoch 59/100\n",
      "1450/1450 - 1s - loss: 3.3837e-04 - 1s/epoch - 824us/step\n",
      "Epoch 60/100\n",
      "1450/1450 - 1s - loss: 3.2812e-04 - 1s/epoch - 824us/step\n",
      "Epoch 61/100\n",
      "1450/1450 - 1s - loss: 3.4809e-04 - 1s/epoch - 877us/step\n",
      "Epoch 62/100\n",
      "1450/1450 - 1s - loss: 3.5476e-04 - 1s/epoch - 870us/step\n",
      "Epoch 63/100\n",
      "1450/1450 - 1s - loss: 3.4137e-04 - 1s/epoch - 879us/step\n",
      "Epoch 64/100\n",
      "1450/1450 - 1s - loss: 3.4351e-04 - 1s/epoch - 882us/step\n",
      "Epoch 65/100\n",
      "1450/1450 - 1s - loss: 3.2101e-04 - 1s/epoch - 903us/step\n",
      "Epoch 66/100\n",
      "1450/1450 - 1s - loss: 3.2894e-04 - 1s/epoch - 827us/step\n",
      "Epoch 67/100\n",
      "1450/1450 - 1s - loss: 3.6060e-04 - 1s/epoch - 829us/step\n",
      "Epoch 68/100\n",
      "1450/1450 - 1s - loss: 3.4097e-04 - 1s/epoch - 834us/step\n",
      "Epoch 69/100\n",
      "1450/1450 - 1s - loss: 3.2728e-04 - 1s/epoch - 824us/step\n",
      "Epoch 70/100\n",
      "1450/1450 - 1s - loss: 3.3391e-04 - 1s/epoch - 865us/step\n",
      "Epoch 71/100\n",
      "1450/1450 - 1s - loss: 3.4515e-04 - 1s/epoch - 875us/step\n",
      "Epoch 72/100\n",
      "1450/1450 - 1s - loss: 3.2942e-04 - 1s/epoch - 864us/step\n",
      "Epoch 73/100\n",
      "1450/1450 - 1s - loss: 3.4182e-04 - 1s/epoch - 859us/step\n",
      "Epoch 74/100\n",
      "1450/1450 - 1s - loss: 3.5681e-04 - 1s/epoch - 871us/step\n",
      "Epoch 75/100\n",
      "1450/1450 - 1s - loss: 3.2295e-04 - 1s/epoch - 873us/step\n",
      "Epoch 76/100\n",
      "1450/1450 - 1s - loss: 3.3239e-04 - 1s/epoch - 973us/step\n",
      "Epoch 77/100\n",
      "1450/1450 - 1s - loss: 3.4542e-04 - 1s/epoch - 880us/step\n",
      "Epoch 78/100\n",
      "1450/1450 - 1s - loss: 3.3630e-04 - 1s/epoch - 887us/step\n",
      "Epoch 79/100\n",
      "1450/1450 - 1s - loss: 3.3711e-04 - 1s/epoch - 877us/step\n",
      "Epoch 80/100\n",
      "1450/1450 - 1s - loss: 3.3336e-04 - 1s/epoch - 878us/step\n",
      "Epoch 81/100\n",
      "1450/1450 - 1s - loss: 3.3971e-04 - 1s/epoch - 873us/step\n",
      "Epoch 82/100\n",
      "1450/1450 - 1s - loss: 3.3209e-04 - 1s/epoch - 920us/step\n",
      "Epoch 83/100\n",
      "1450/1450 - 1s - loss: 3.3825e-04 - 1s/epoch - 901us/step\n",
      "Epoch 84/100\n",
      "1450/1450 - 1s - loss: 3.2158e-04 - 1s/epoch - 857us/step\n",
      "Epoch 85/100\n",
      "1450/1450 - 1s - loss: 3.3834e-04 - 1s/epoch - 886us/step\n",
      "Epoch 86/100\n",
      "1450/1450 - 1s - loss: 3.4175e-04 - 1s/epoch - 870us/step\n",
      "Epoch 87/100\n",
      "1450/1450 - 1s - loss: 3.5271e-04 - 1s/epoch - 869us/step\n",
      "Epoch 88/100\n",
      "1450/1450 - 1s - loss: 3.3658e-04 - 1s/epoch - 999us/step\n",
      "Epoch 89/100\n",
      "1450/1450 - 1s - loss: 3.2847e-04 - 1s/epoch - 928us/step\n",
      "Epoch 90/100\n",
      "1450/1450 - 1s - loss: 3.3595e-04 - 1s/epoch - 911us/step\n",
      "Epoch 91/100\n",
      "1450/1450 - 1s - loss: 3.3907e-04 - 1s/epoch - 840us/step\n",
      "Epoch 92/100\n",
      "1450/1450 - 1s - loss: 3.3063e-04 - 1s/epoch - 873us/step\n",
      "Epoch 93/100\n",
      "1450/1450 - 1s - loss: 3.3686e-04 - 1s/epoch - 884us/step\n",
      "Epoch 94/100\n",
      "1450/1450 - 1s - loss: 3.3972e-04 - 1s/epoch - 858us/step\n",
      "Epoch 95/100\n",
      "1450/1450 - 1s - loss: 3.2725e-04 - 1s/epoch - 824us/step\n",
      "Epoch 96/100\n",
      "1450/1450 - 1s - loss: 3.2863e-04 - 1s/epoch - 849us/step\n",
      "Epoch 97/100\n",
      "1450/1450 - 1s - loss: 3.3627e-04 - 1s/epoch - 832us/step\n",
      "Epoch 98/100\n",
      "1450/1450 - 1s - loss: 3.4438e-04 - 1s/epoch - 849us/step\n",
      "Epoch 99/100\n",
      "1450/1450 - 1s - loss: 3.4226e-04 - 1s/epoch - 932us/step\n",
      "Epoch 100/100\n",
      "1450/1450 - 1s - loss: 3.3166e-04 - 1s/epoch - 940us/step\n"
     ]
    },
    {
     "data": {
      "text/plain": [
       "<keras.src.callbacks.History at 0x19adb25a2b0>"
      ]
     },
     "execution_count": 9,
     "metadata": {},
     "output_type": "execute_result"
    }
   ],
   "source": [
    "# Train the model\n",
    "model.fit(trainX, trainY, epochs=100, batch_size=1, verbose=2)"
   ]
  },
  {
   "cell_type": "code",
   "execution_count": 10,
   "id": "a9962d1b",
   "metadata": {},
   "outputs": [
    {
     "name": "stdout",
     "output_type": "stream",
     "text": [
      "12/12 [==============================] - 0s 1ms/step\n"
     ]
    }
   ],
   "source": [
    "# Make predictions on the test set (January 2023 to May 2023)\n",
    "test_predictions = model.predict(testX)"
   ]
  },
  {
   "cell_type": "code",
   "execution_count": 11,
   "id": "af7b76a9",
   "metadata": {},
   "outputs": [],
   "source": [
    "# Inverse transform the predictions to get the original scale\n",
    "test_predictions = scaler.inverse_transform(test_predictions)"
   ]
  },
  {
   "cell_type": "code",
   "execution_count": 12,
   "id": "ba7b2a32",
   "metadata": {},
   "outputs": [
    {
     "data": {
      "image/png": "[encoded data removed]",
      "text/plain": [
       "<Figure size 864x432 with 1 Axes>"
      ]
     },
     "metadata": {
      "needs_background": "light"
     },
     "output_type": "display_data"
    }
   ],
   "source": [
    "# Plot the results for the test set\n",
    "plt.figure(figsize=(12, 6))\n",
    "plt.plot(scaler.inverse_transform(testY), label='True Price')\n",
    "plt.plot(test_predictions, label='Predicted Price')\n",
    "plt.xlabel('Time')\n",
    "plt.ylabel('Bitcoin Price')\n",
    "plt.title('Bitcoin Price Prediction for Jan 2023 to May 2023')\n",
    "plt.legend()\n",
    "plt.show()"
   ]
  },
  {
   "cell_type": "code",
   "execution_count": 13,
   "id": "85a9ad45",
   "metadata": {},
   "outputs": [
    {
     "name": "stdout",
     "output_type": "stream",
     "text": [
      "Root Mean Squared Error (RMSE): 825.6104505370902\n",
      "Mean Absolute Percentage Error (MAPE): 0.03%\n"
     ]
    }
   ],
   "source": [
    "from sklearn.metrics import mean_absolute_percentage_error, mean_squared_error\n",
    "\n",
    "# Inverse transform the true prices to their original scale\n",
    "true_prices = scaler.inverse_transform(testY)\n",
    "\n",
    "# Calculate the MAPE\n",
    "mape = mean_absolute_percentage_error(true_prices, test_predictions)\n",
    "\n",
    "# Calculate the RMSE\n",
    "rmse = np.sqrt(mean_squared_error(true_prices, test_predictions))\n",
    "\n",
    "print(f\"Root Mean Squared Error (RMSE): {rmse}\")\n",
    "print(\"Mean Absolute Percentage Error (MAPE): {:.2f}%\".format(mape))"
   ]
  },
  {
   "cell_type": "code",
   "execution_count": null,
   "id": "c3d8ba1e",
   "metadata": {},
   "outputs": [],
   "source": []
  }
 ],
 "metadata": {
  "kernelspec": {
   "display_name": "Python 3 (ipykernel)",
   "language": "python",
   "name": "python3"
  },
  "language_info": {
   "codemirror_mode": {
    "name": "ipython",
    "version": 3
   },
   "file_extension": ".py",
   "mimetype": "text/x-python",
   "name": "python",
   "nbconvert_exporter": "python",
   "pygments_lexer": "ipython3",
   "version": "3.9.7"
  }
 },
 "nbformat": 4,
 "nbformat_minor": 5
}
