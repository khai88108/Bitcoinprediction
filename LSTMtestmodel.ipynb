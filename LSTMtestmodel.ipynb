{
 "cells": [
  {
   "cell_type": "code",
   "execution_count": 1,
   "id": "83cb5f26",
   "metadata": {},
   "outputs": [
    {
     "name": "stderr",
     "output_type": "stream",
     "text": [
      "C:\\Users\\rty67\\anaconda3\\lib\\site-packages\\scipy\\__init__.py:146: UserWarning: A NumPy version >=1.16.5 and <1.23.0 is required for this version of SciPy (detected version 1.23.1\n",
      "  warnings.warn(f\"A NumPy version >={np_minversion} and <{np_maxversion}\"\n"
     ]
    }
   ],
   "source": [
    "import pandas as pd\n",
    "import numpy as np\n",
    "import matplotlib.pyplot as plt\n",
    "from sklearn.preprocessing import MinMaxScaler\n",
    "from tensorflow.keras.models import Sequential\n",
    "from tensorflow.keras.layers import Dense, LSTM\n",
    "from keras.layers import Dropout\n",
    "import tensorflow as tf\n"
   ]
  },
  {
   "cell_type": "code",
   "execution_count": 2,
   "id": "ba68e216",
   "metadata": {},
   "outputs": [],
   "source": [
    "# Load the dataset\n",
    "data = pd.read_csv('BTCprice.csv')"
   ]
  },
  {
   "cell_type": "code",
   "execution_count": 3,
   "id": "1271fd8a",
   "metadata": {},
   "outputs": [],
   "source": [
    "# Extract the 'Close' prices as our target variable\n",
    "target = data['Close'].values"
   ]
  },
  {
   "cell_type": "code",
   "execution_count": 4,
   "id": "dd8cea99",
   "metadata": {},
   "outputs": [],
   "source": [
    "# Normalize the data to scale between 0 and 1\n",
    "scaler = MinMaxScaler(feature_range=(0, 1))\n",
    "target = scaler.fit_transform(target.reshape(-1, 1))"
   ]
  },
  {
   "cell_type": "code",
   "execution_count": 5,
   "id": "586a86df",
   "metadata": {},
   "outputs": [],
   "source": [
    "# Split the data into training and testing sets\n",
    "train_size = int(len(target) * 0.8)\n",
    "test_size = len(target) - train_size\n",
    "train_data, test_data = target[0:train_size,:], target[train_size:len(target),:]"
   ]
  },
  {
   "cell_type": "code",
   "execution_count": 6,
   "id": "36df1a30",
   "metadata": {},
   "outputs": [],
   "source": [
    "# Prepare the data for LSTM\n",
    "def create_sequences(dataset, seq_length):\n",
    "    dataX, dataY = [], []\n",
    "    for i in range(len(dataset) - seq_length):\n",
    "        dataX.append(dataset[i:(i + seq_length)])\n",
    "        dataY.append(dataset[i + seq_length])\n",
    "    return np.array(dataX), np.array(dataY)"
   ]
  },
  {
   "cell_type": "code",
   "execution_count": 7,
   "id": "c6a92b02",
   "metadata": {},
   "outputs": [],
   "source": [
    "seq_length = 10  \n",
    "trainX, trainY = create_sequences(train_data, seq_length)\n",
    "testX, testY = create_sequences(test_data, seq_length)"
   ]
  },
  {
   "cell_type": "code",
   "execution_count": 8,
   "id": "f203705d",
   "metadata": {},
   "outputs": [],
   "source": [
    "#build the LSTM model\n",
    "model = Sequential()\n",
    "model.add(LSTM(50, return_sequences=True, input_shape=(seq_length, target.shape[1])))\n",
    "model.add(Dropout(0.2))\n",
    "model.add(LSTM(50, return_sequences=False))\n",
    "model.add(Dropout(0.2))\n",
    "model.add(Dense(1))\n",
    "model.compile(loss='mean_squared_error', optimizer='adam')"
   ]
  },
  {
   "cell_type": "code",
   "execution_count": 9,
   "id": "ecc0a2d7",
   "metadata": {
    "scrolled": true
   },
   "outputs": [
    {
     "name": "stdout",
     "output_type": "stream",
     "text": [
      "Epoch 1/100\n",
      "1450/1450 - 6s - loss: 0.0055 - 6s/epoch - 4ms/step\n",
      "Epoch 2/100\n",
      "1450/1450 - 4s - loss: 0.0031 - 4s/epoch - 3ms/step\n",
      "Epoch 3/100\n",
      "1450/1450 - 4s - loss: 0.0028 - 4s/epoch - 3ms/step\n",
      "Epoch 4/100\n",
      "1450/1450 - 4s - loss: 0.0021 - 4s/epoch - 3ms/step\n",
      "Epoch 5/100\n",
      "1450/1450 - 4s - loss: 0.0022 - 4s/epoch - 3ms/step\n",
      "Epoch 6/100\n",
      "1450/1450 - 4s - loss: 0.0018 - 4s/epoch - 3ms/step\n",
      "Epoch 7/100\n",
      "1450/1450 - 4s - loss: 0.0019 - 4s/epoch - 3ms/step\n",
      "Epoch 8/100\n",
      "1450/1450 - 4s - loss: 0.0019 - 4s/epoch - 3ms/step\n",
      "Epoch 9/100\n",
      "1450/1450 - 4s - loss: 0.0017 - 4s/epoch - 3ms/step\n",
      "Epoch 10/100\n",
      "1450/1450 - 4s - loss: 0.0016 - 4s/epoch - 3ms/step\n",
      "Epoch 11/100\n",
      "1450/1450 - 4s - loss: 0.0015 - 4s/epoch - 3ms/step\n",
      "Epoch 12/100\n",
      "1450/1450 - 4s - loss: 0.0017 - 4s/epoch - 3ms/step\n",
      "Epoch 13/100\n",
      "1450/1450 - 4s - loss: 0.0015 - 4s/epoch - 3ms/step\n",
      "Epoch 14/100\n",
      "1450/1450 - 4s - loss: 0.0014 - 4s/epoch - 3ms/step\n",
      "Epoch 15/100\n",
      "1450/1450 - 4s - loss: 0.0013 - 4s/epoch - 3ms/step\n",
      "Epoch 16/100\n",
      "1450/1450 - 4s - loss: 0.0015 - 4s/epoch - 3ms/step\n",
      "Epoch 17/100\n",
      "1450/1450 - 4s - loss: 0.0015 - 4s/epoch - 3ms/step\n",
      "Epoch 18/100\n",
      "1450/1450 - 4s - loss: 0.0013 - 4s/epoch - 3ms/step\n",
      "Epoch 19/100\n",
      "1450/1450 - 4s - loss: 0.0013 - 4s/epoch - 3ms/step\n",
      "Epoch 20/100\n",
      "1450/1450 - 4s - loss: 0.0012 - 4s/epoch - 3ms/step\n",
      "Epoch 21/100\n",
      "1450/1450 - 4s - loss: 0.0013 - 4s/epoch - 3ms/step\n",
      "Epoch 22/100\n",
      "1450/1450 - 4s - loss: 0.0013 - 4s/epoch - 3ms/step\n",
      "Epoch 23/100\n",
      "1450/1450 - 4s - loss: 0.0013 - 4s/epoch - 3ms/step\n",
      "Epoch 24/100\n",
      "1450/1450 - 4s - loss: 0.0013 - 4s/epoch - 3ms/step\n",
      "Epoch 25/100\n",
      "1450/1450 - 4s - loss: 0.0013 - 4s/epoch - 3ms/step\n",
      "Epoch 26/100\n",
      "1450/1450 - 4s - loss: 0.0013 - 4s/epoch - 3ms/step\n",
      "Epoch 27/100\n",
      "1450/1450 - 4s - loss: 0.0013 - 4s/epoch - 3ms/step\n",
      "Epoch 28/100\n",
      "1450/1450 - 4s - loss: 0.0012 - 4s/epoch - 3ms/step\n",
      "Epoch 29/100\n",
      "1450/1450 - 4s - loss: 0.0013 - 4s/epoch - 3ms/step\n",
      "Epoch 30/100\n",
      "1450/1450 - 4s - loss: 0.0012 - 4s/epoch - 3ms/step\n",
      "Epoch 31/100\n",
      "1450/1450 - 4s - loss: 0.0013 - 4s/epoch - 3ms/step\n",
      "Epoch 32/100\n",
      "1450/1450 - 4s - loss: 0.0013 - 4s/epoch - 3ms/step\n",
      "Epoch 33/100\n",
      "1450/1450 - 4s - loss: 0.0012 - 4s/epoch - 3ms/step\n",
      "Epoch 34/100\n",
      "1450/1450 - 5s - loss: 0.0013 - 5s/epoch - 3ms/step\n",
      "Epoch 35/100\n",
      "1450/1450 - 5s - loss: 0.0013 - 5s/epoch - 3ms/step\n",
      "Epoch 36/100\n",
      "1450/1450 - 4s - loss: 0.0013 - 4s/epoch - 3ms/step\n",
      "Epoch 37/100\n",
      "1450/1450 - 4s - loss: 0.0011 - 4s/epoch - 3ms/step\n",
      "Epoch 38/100\n",
      "1450/1450 - 4s - loss: 0.0012 - 4s/epoch - 3ms/step\n",
      "Epoch 39/100\n",
      "1450/1450 - 4s - loss: 0.0011 - 4s/epoch - 3ms/step\n",
      "Epoch 40/100\n",
      "1450/1450 - 4s - loss: 0.0013 - 4s/epoch - 3ms/step\n",
      "Epoch 41/100\n",
      "1450/1450 - 4s - loss: 0.0011 - 4s/epoch - 3ms/step\n",
      "Epoch 42/100\n",
      "1450/1450 - 4s - loss: 0.0012 - 4s/epoch - 3ms/step\n",
      "Epoch 43/100\n",
      "1450/1450 - 4s - loss: 0.0012 - 4s/epoch - 3ms/step\n",
      "Epoch 44/100\n",
      "1450/1450 - 4s - loss: 0.0013 - 4s/epoch - 3ms/step\n",
      "Epoch 45/100\n",
      "1450/1450 - 4s - loss: 0.0012 - 4s/epoch - 3ms/step\n",
      "Epoch 46/100\n",
      "1450/1450 - 4s - loss: 0.0012 - 4s/epoch - 3ms/step\n",
      "Epoch 47/100\n",
      "1450/1450 - 4s - loss: 0.0012 - 4s/epoch - 3ms/step\n",
      "Epoch 48/100\n",
      "1450/1450 - 4s - loss: 0.0011 - 4s/epoch - 3ms/step\n",
      "Epoch 49/100\n",
      "1450/1450 - 4s - loss: 0.0012 - 4s/epoch - 3ms/step\n",
      "Epoch 50/100\n",
      "1450/1450 - 4s - loss: 0.0011 - 4s/epoch - 3ms/step\n",
      "Epoch 51/100\n",
      "1450/1450 - 4s - loss: 0.0011 - 4s/epoch - 3ms/step\n",
      "Epoch 52/100\n",
      "1450/1450 - 4s - loss: 0.0013 - 4s/epoch - 3ms/step\n",
      "Epoch 53/100\n",
      "1450/1450 - 4s - loss: 0.0012 - 4s/epoch - 3ms/step\n",
      "Epoch 54/100\n",
      "1450/1450 - 4s - loss: 0.0012 - 4s/epoch - 3ms/step\n",
      "Epoch 55/100\n",
      "1450/1450 - 4s - loss: 0.0011 - 4s/epoch - 3ms/step\n",
      "Epoch 56/100\n",
      "1450/1450 - 4s - loss: 0.0013 - 4s/epoch - 3ms/step\n",
      "Epoch 57/100\n",
      "1450/1450 - 4s - loss: 0.0012 - 4s/epoch - 3ms/step\n",
      "Epoch 58/100\n",
      "1450/1450 - 4s - loss: 0.0013 - 4s/epoch - 3ms/step\n",
      "Epoch 59/100\n",
      "1450/1450 - 4s - loss: 0.0011 - 4s/epoch - 3ms/step\n",
      "Epoch 60/100\n",
      "1450/1450 - 4s - loss: 0.0011 - 4s/epoch - 3ms/step\n",
      "Epoch 61/100\n",
      "1450/1450 - 4s - loss: 0.0011 - 4s/epoch - 3ms/step\n",
      "Epoch 62/100\n",
      "1450/1450 - 4s - loss: 0.0011 - 4s/epoch - 3ms/step\n",
      "Epoch 63/100\n",
      "1450/1450 - 4s - loss: 0.0011 - 4s/epoch - 3ms/step\n",
      "Epoch 64/100\n",
      "1450/1450 - 4s - loss: 0.0011 - 4s/epoch - 3ms/step\n",
      "Epoch 65/100\n",
      "1450/1450 - 4s - loss: 0.0011 - 4s/epoch - 3ms/step\n",
      "Epoch 66/100\n",
      "1450/1450 - 4s - loss: 0.0011 - 4s/epoch - 3ms/step\n",
      "Epoch 67/100\n",
      "1450/1450 - 4s - loss: 0.0011 - 4s/epoch - 3ms/step\n",
      "Epoch 68/100\n",
      "1450/1450 - 4s - loss: 0.0011 - 4s/epoch - 3ms/step\n",
      "Epoch 69/100\n",
      "1450/1450 - 4s - loss: 0.0011 - 4s/epoch - 3ms/step\n",
      "Epoch 70/100\n",
      "1450/1450 - 4s - loss: 0.0010 - 4s/epoch - 3ms/step\n",
      "Epoch 71/100\n",
      "1450/1450 - 4s - loss: 0.0010 - 4s/epoch - 3ms/step\n",
      "Epoch 72/100\n",
      "1450/1450 - 4s - loss: 0.0011 - 4s/epoch - 3ms/step\n",
      "Epoch 73/100\n",
      "1450/1450 - 4s - loss: 0.0011 - 4s/epoch - 3ms/step\n",
      "Epoch 74/100\n",
      "1450/1450 - 4s - loss: 9.5267e-04 - 4s/epoch - 3ms/step\n",
      "Epoch 75/100\n",
      "1450/1450 - 4s - loss: 0.0011 - 4s/epoch - 3ms/step\n",
      "Epoch 76/100\n",
      "1450/1450 - 4s - loss: 0.0010 - 4s/epoch - 3ms/step\n",
      "Epoch 77/100\n",
      "1450/1450 - 4s - loss: 9.5042e-04 - 4s/epoch - 3ms/step\n",
      "Epoch 78/100\n",
      "1450/1450 - 4s - loss: 0.0010 - 4s/epoch - 3ms/step\n",
      "Epoch 79/100\n",
      "1450/1450 - 4s - loss: 0.0011 - 4s/epoch - 3ms/step\n",
      "Epoch 80/100\n",
      "1450/1450 - 4s - loss: 0.0010 - 4s/epoch - 3ms/step\n",
      "Epoch 81/100\n",
      "1450/1450 - 4s - loss: 9.7849e-04 - 4s/epoch - 3ms/step\n",
      "Epoch 82/100\n",
      "1450/1450 - 4s - loss: 0.0010 - 4s/epoch - 3ms/step\n",
      "Epoch 83/100\n",
      "1450/1450 - 4s - loss: 0.0011 - 4s/epoch - 3ms/step\n",
      "Epoch 84/100\n",
      "1450/1450 - 4s - loss: 9.9251e-04 - 4s/epoch - 3ms/step\n",
      "Epoch 85/100\n",
      "1450/1450 - 4s - loss: 0.0011 - 4s/epoch - 3ms/step\n",
      "Epoch 86/100\n",
      "1450/1450 - 4s - loss: 0.0010 - 4s/epoch - 3ms/step\n",
      "Epoch 87/100\n",
      "1450/1450 - 5s - loss: 9.4910e-04 - 5s/epoch - 4ms/step\n",
      "Epoch 88/100\n",
      "1450/1450 - 4s - loss: 0.0011 - 4s/epoch - 3ms/step\n",
      "Epoch 89/100\n",
      "1450/1450 - 4s - loss: 9.8974e-04 - 4s/epoch - 3ms/step\n",
      "Epoch 90/100\n",
      "1450/1450 - 5s - loss: 0.0011 - 5s/epoch - 3ms/step\n",
      "Epoch 91/100\n",
      "1450/1450 - 5s - loss: 0.0010 - 5s/epoch - 4ms/step\n",
      "Epoch 92/100\n",
      "1450/1450 - 5s - loss: 0.0010 - 5s/epoch - 3ms/step\n",
      "Epoch 93/100\n",
      "1450/1450 - 5s - loss: 0.0010 - 5s/epoch - 3ms/step\n",
      "Epoch 94/100\n",
      "1450/1450 - 5s - loss: 0.0011 - 5s/epoch - 3ms/step\n",
      "Epoch 95/100\n",
      "1450/1450 - 5s - loss: 9.1512e-04 - 5s/epoch - 3ms/step\n",
      "Epoch 96/100\n",
      "1450/1450 - 5s - loss: 0.0010 - 5s/epoch - 4ms/step\n",
      "Epoch 97/100\n",
      "1450/1450 - 4s - loss: 9.4842e-04 - 4s/epoch - 3ms/step\n",
      "Epoch 98/100\n",
      "1450/1450 - 4s - loss: 0.0011 - 4s/epoch - 3ms/step\n",
      "Epoch 99/100\n",
      "1450/1450 - 4s - loss: 0.0010 - 4s/epoch - 3ms/step\n",
      "Epoch 100/100\n",
      "1450/1450 - 4s - loss: 9.6043e-04 - 4s/epoch - 3ms/step\n"
     ]
    },
    {
     "data": {
      "text/plain": [
       "<keras.src.callbacks.History at 0x1f341a6b0d0>"
      ]
     },
     "execution_count": 9,
     "metadata": {},
     "output_type": "execute_result"
    }
   ],
   "source": [
    "# Train the model\n",
    "model.fit(trainX, trainY, epochs=100, batch_size=1, verbose=2)"
   ]
  },
  {
   "cell_type": "code",
   "execution_count": 10,
   "id": "91e73b12",
   "metadata": {},
   "outputs": [
    {
     "name": "stdout",
     "output_type": "stream",
     "text": [
      "12/12 [==============================] - 1s 2ms/step\n"
     ]
    }
   ],
   "source": [
    "# Make predictions on the test set (January 2023 to May 2023)\n",
    "test_predictions = model.predict(testX)"
   ]
  },
  {
   "cell_type": "code",
   "execution_count": 11,
   "id": "ce252a3a",
   "metadata": {},
   "outputs": [],
   "source": [
    "# Inverse transform the predictions to get the original scale\n",
    "test_predictions = scaler.inverse_transform(test_predictions)"
   ]
  },
  {
   "cell_type": "code",
   "execution_count": 12,
   "id": "e6894c05",
   "metadata": {},
   "outputs": [
    {
     "data": {
      "image/png": "[encoded data removed]",
      "text/plain": [
       "<Figure size 864x432 with 1 Axes>"
      ]
     },
     "metadata": {
      "needs_background": "light"
     },
     "output_type": "display_data"
    }
   ],
   "source": [
    "# Plot the results for the test set\n",
    "plt.figure(figsize=(12, 6))\n",
    "plt.plot(scaler.inverse_transform(testY), label='True Price')\n",
    "plt.plot(test_predictions, label='Predicted Price')\n",
    "plt.xlabel('Time')\n",
    "plt.ylabel('Bitcoin Price')\n",
    "plt.title('Bitcoin Price Prediction for Jan 2023 to May 2023')\n",
    "plt.legend()\n",
    "plt.show()"
   ]
  },
  {
   "cell_type": "code",
   "execution_count": 13,
   "id": "8d2b1a0a",
   "metadata": {},
   "outputs": [
    {
     "name": "stdout",
     "output_type": "stream",
     "text": [
      "Root Mean Squared Error (RMSE): 751.1670619104656\n",
      "Mean Absolute Percentage Error (MAPE): 0.02%\n"
     ]
    }
   ],
   "source": [
    "from sklearn.metrics import mean_absolute_percentage_error, mean_squared_error\n",
    "\n",
    "# Inverse transform the true prices to their original scale\n",
    "true_prices = scaler.inverse_transform(testY)\n",
    "\n",
    "# Calculate the MAPE\n",
    "mape = mean_absolute_percentage_error(true_prices, test_predictions)\n",
    "\n",
    "# Calculate the RMSE\n",
    "rmse = np.sqrt(mean_squared_error(true_prices, test_predictions))\n",
    "\n",
    "print(f\"Root Mean Squared Error (RMSE): {rmse}\")\n",
    "print(\"Mean Absolute Percentage Error (MAPE): {:.2f}%\".format(mape))"
   ]
  },
  {
   "cell_type": "code",
   "execution_count": null,
   "id": "a90ec402",
   "metadata": {},
   "outputs": [],
   "source": []
  },
  {
   "cell_type": "code",
   "execution_count": null,
   "id": "23ed4f3a",
   "metadata": {},
   "outputs": [],
   "source": []
  }
 ],
 "metadata": {
  "kernelspec": {
   "display_name": "Python 3 (ipykernel)",
   "language": "python",
   "name": "python3"
  },
  "language_info": {
   "codemirror_mode": {
    "name": "ipython",
    "version": 3
   },
   "file_extension": ".py",
   "mimetype": "text/x-python",
   "name": "python",
   "nbconvert_exporter": "python",
   "pygments_lexer": "ipython3",
   "version": "3.9.7"
  }
 },
 "nbformat": 4,
 "nbformat_minor": 5
}
